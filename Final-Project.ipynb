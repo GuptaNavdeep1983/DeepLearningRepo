{
  "nbformat": 4,
  "nbformat_minor": 0,
  "metadata": {
    "colab": {
      "name": "Untitled20.ipynb",
      "provenance": [],
      "collapsed_sections": [],
      "authorship_tag": "ABX9TyMzxtOgKHC5EeVJUOyElGPd",
      "include_colab_link": true
    },
    "kernelspec": {
      "name": "ir",
      "display_name": "R"
    }
  },
  "cells": [
    {
      "cell_type": "markdown",
      "metadata": {
        "id": "view-in-github",
        "colab_type": "text"
      },
      "source": [
        "<a href=\"https://colab.research.google.com/github/GuptaNavdeep1983/DeepLearningRepo/blob/main/Final-Project.ipynb\" target=\"_parent\"><img src=\"https://colab.research.google.com/assets/colab-badge.svg\" alt=\"Open In Colab\"/></a>"
      ]
    },
    {
      "cell_type": "markdown",
      "metadata": {
        "id": "6L0PnNzS0fAq"
      },
      "source": [
        "## References\n",
        "\n",
        "https://www.nature.com/articles/s41597-020-0543-2\n",
        "\n",
        "https://github.com/naver/biobert-pretrained\n",
        "\n",
        "https://github.com/dmis-lab/biobert\n",
        "\n",
        "https://benjamintseng.com/portfolio/nlp-pubmed-data-using-tensorflow-and-keras/"
      ]
    },
    {
      "cell_type": "code",
      "metadata": {
        "colab": {
          "base_uri": "https://localhost:8080/"
        },
        "id": "J9CNZD-lzz4I",
        "outputId": "91aaa90a-6bae-490d-e0c9-0fcb367b2109"
      },
      "source": [
        "install.packages(\"easyPubMed\")\n",
        "install.packages(\"tm\")\n",
        "install.packages(\"qdap\")"
      ],
      "execution_count": 1,
      "outputs": [
        {
          "output_type": "stream",
          "text": [
            "Installing package into ‘/usr/local/lib/R/site-library’\n",
            "(as ‘lib’ is unspecified)\n",
            "\n",
            "Installing package into ‘/usr/local/lib/R/site-library’\n",
            "(as ‘lib’ is unspecified)\n",
            "\n",
            "also installing the dependencies ‘NLP’, ‘slam’\n",
            "\n",
            "\n",
            "Installing package into ‘/usr/local/lib/R/site-library’\n",
            "(as ‘lib’ is unspecified)\n",
            "\n",
            "also installing the dependencies ‘data.table’, ‘openNLPdata’, ‘rJava’, ‘zip’, ‘bitops’, ‘plyr’, ‘qdapDictionaries’, ‘qdapRegex’, ‘qdapTools’, ‘chron’, ‘gender’, ‘gridExtra’, ‘igraph’, ‘openNLP’, ‘openxlsx’, ‘plotrix’, ‘RCurl’, ‘reshape2’, ‘stringdist’, ‘venneuler’, ‘wordcloud’, ‘XML’\n",
            "\n",
            "\n"
          ],
          "name": "stderr"
        }
      ]
    }
  ]
}