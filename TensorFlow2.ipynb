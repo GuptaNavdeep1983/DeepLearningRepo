{
  "nbformat": 4,
  "nbformat_minor": 0,
  "metadata": {
    "colab": {
      "name": "Untitled17.ipynb",
      "provenance": [],
      "authorship_tag": "ABX9TyM9TKwUV8Lqqb+Zi+ytsTyc",
      "include_colab_link": true
    },
    "kernelspec": {
      "name": "python3",
      "display_name": "Python 3"
    }
  },
  "cells": [
    {
      "cell_type": "markdown",
      "metadata": {
        "id": "view-in-github",
        "colab_type": "text"
      },
      "source": [
        "<a href=\"https://colab.research.google.com/github/GuptaNavdeep1983/DeepLearningRepo/blob/main/TensorFlow2.ipynb\" target=\"_parent\"><img src=\"https://colab.research.google.com/assets/colab-badge.svg\" alt=\"Open In Colab\"/></a>"
      ]
    },
    {
      "cell_type": "markdown",
      "metadata": {
        "id": "WiXg75O0BZKI"
      },
      "source": [
        "##Additional References\n",
        "\n",
        "https://www.toptal.com/python/gradient-descent-in-tensorflow"
      ]
    },
    {
      "cell_type": "code",
      "metadata": {
        "id": "adxSb1_316mb"
      },
      "source": [
        "import numpy as np\n",
        "from matplotlib import pyplot as plt\n",
        "import tensorflow as tf"
      ],
      "execution_count": 1,
      "outputs": []
    },
    {
      "cell_type": "code",
      "metadata": {
        "colab": {
          "base_uri": "https://localhost:8080/"
        },
        "id": "KVr-NPlJ2Bt2",
        "outputId": "9dbfbf24-5c4b-4a69-e284-29be6bf7ab61"
      },
      "source": [
        "a = tf.constant([1,2,3])\n",
        "b = tf.constant([1,2,3])\n",
        "c = a + b\n",
        "d = tf.add(a,b)\n",
        "\n",
        "print(\"c:\", c)\n",
        "print(\"d:\", d)"
      ],
      "execution_count": 2,
      "outputs": [
        {
          "output_type": "stream",
          "text": [
            "c: tf.Tensor([2 4 6], shape=(3,), dtype=int32)\n",
            "d: tf.Tensor([2 4 6], shape=(3,), dtype=int32)\n"
          ],
          "name": "stdout"
        }
      ]
    },
    {
      "cell_type": "code",
      "metadata": {
        "colab": {
          "base_uri": "https://localhost:8080/"
        },
        "id": "kTTd4enC2L-s",
        "outputId": "71244cd1-63dc-4de2-9efb-84873e2c7632"
      },
      "source": [
        "a = tf.constant([1,2,3])\n",
        "b = tf.constant([1,2,3])\n",
        "c = a * b\n",
        "d = tf.multiply(a, b)\n",
        "\n",
        "print(\"c:\", c)\n",
        "print(\"d:\", d)"
      ],
      "execution_count": 3,
      "outputs": [
        {
          "output_type": "stream",
          "text": [
            "c: tf.Tensor([1 4 9], shape=(3,), dtype=int32)\n",
            "d: tf.Tensor([1 4 9], shape=(3,), dtype=int32)\n"
          ],
          "name": "stdout"
        }
      ]
    },
    {
      "cell_type": "code",
      "metadata": {
        "colab": {
          "base_uri": "https://localhost:8080/"
        },
        "id": "59AV9-572OJI",
        "outputId": "67700205-97d3-45e8-a0b6-0effa71e09ac"
      },
      "source": [
        "a = tf.constant(2.0)\n",
        "\n",
        "b = tf.math.exp(a)\n",
        "\n",
        "print(\"b:\", b)"
      ],
      "execution_count": 4,
      "outputs": [
        {
          "output_type": "stream",
          "text": [
            "b: tf.Tensor(7.389056, shape=(), dtype=float32)\n"
          ],
          "name": "stdout"
        }
      ]
    },
    {
      "cell_type": "code",
      "metadata": {
        "colab": {
          "base_uri": "https://localhost:8080/"
        },
        "id": "RskBqLR22QzC",
        "outputId": "0fb1c8f3-2218-412c-dfe2-85599a47e2c6"
      },
      "source": [
        "a_py = [1, 2] \n",
        "b_py = [3, 4] \n",
        "tf.add(a_py, b_py)\n",
        "\n",
        "# numpy arrays\n",
        "a_np = np.array([1, 2])\n",
        "b_np = np.array([3, 4])\n",
        "\n",
        "tf.add(a_np, b_np) \n",
        "\n",
        "# native TF tensor\n",
        "a_tf = tf.constant([1, 2])\n",
        "b_tf = tf.constant([3, 4])\n",
        "\n",
        "tf.add(a_tf, b_tf)\n",
        "\n",
        "a_tf.numpy()"
      ],
      "execution_count": 9,
      "outputs": [
        {
          "output_type": "execute_result",
          "data": {
            "text/plain": [
              "array([1, 2], dtype=int32)"
            ]
          },
          "metadata": {
            "tags": []
          },
          "execution_count": 9
        }
      ]
    },
    {
      "cell_type": "code",
      "metadata": {
        "colab": {
          "base_uri": "https://localhost:8080/"
        },
        "id": "wAcNivAr2rEI",
        "outputId": "b0d675a6-bee5-4ee8-90d7-45eaad4e816d"
      },
      "source": [
        "X = tf.constant(range(10), dtype=tf.float32)\n",
        "Y = 2 * X + 10\n",
        "\n",
        "print(\"X:{}\".format(X))\n",
        "print(\"Y:{}\".format(Y))"
      ],
      "execution_count": 10,
      "outputs": [
        {
          "output_type": "stream",
          "text": [
            "X:[0. 1. 2. 3. 4. 5. 6. 7. 8. 9.]\n",
            "Y:[10. 12. 14. 16. 18. 20. 22. 24. 26. 28.]\n"
          ],
          "name": "stdout"
        }
      ]
    },
    {
      "cell_type": "code",
      "metadata": {
        "colab": {
          "base_uri": "https://localhost:8080/"
        },
        "id": "aA9j3R8d2yWM",
        "outputId": "34f69a6e-2bc5-4860-8cf5-99e08db989f5"
      },
      "source": [
        "X_test = tf.constant(range(10, 20), dtype=tf.float32)\n",
        "Y_test = 2 * X_test + 10\n",
        "\n",
        "print(\"X_test:{}\".format(X_test))\n",
        "print(\"Y_test:{}\".format(Y_test))"
      ],
      "execution_count": 11,
      "outputs": [
        {
          "output_type": "stream",
          "text": [
            "X_test:[10. 11. 12. 13. 14. 15. 16. 17. 18. 19.]\n",
            "Y_test:[30. 32. 34. 36. 38. 40. 42. 44. 46. 48.]\n"
          ],
          "name": "stdout"
        }
      ]
    },
    {
      "cell_type": "code",
      "metadata": {
        "colab": {
          "base_uri": "https://localhost:8080/"
        },
        "id": "3N_D-uM232I5",
        "outputId": "f6474c65-4e08-45c7-aefa-0ff3b64a5ba7"
      },
      "source": [
        "y_mean = Y.numpy().mean()\n",
        "\n",
        "\n",
        "def predict_mean(X):\n",
        "    y_hat = [y_mean] * len(X)\n",
        "    return y_hat\n",
        "\n",
        "Y_hat = predict_mean(X_test)\n",
        "print(Y_hat)"
      ],
      "execution_count": 13,
      "outputs": [
        {
          "output_type": "stream",
          "text": [
            "[19.0, 19.0, 19.0, 19.0, 19.0, 19.0, 19.0, 19.0, 19.0, 19.0]\n"
          ],
          "name": "stdout"
        }
      ]
    },
    {
      "cell_type": "code",
      "metadata": {
        "colab": {
          "base_uri": "https://localhost:8080/"
        },
        "id": "PLXWeUuP4GNY",
        "outputId": "fb63b896-1df6-4e5e-ad6d-83b0fdd60d4e"
      },
      "source": [
        "errors = (Y_hat - Y)**2\n",
        "print(errors)\n",
        "loss = tf.reduce_mean(errors)\n",
        "print(loss.numpy())"
      ],
      "execution_count": 17,
      "outputs": [
        {
          "output_type": "stream",
          "text": [
            "tf.Tensor([81. 49. 25.  9.  1.  1.  9. 25. 49. 81.], shape=(10,), dtype=float32)\n",
            "33.0\n"
          ],
          "name": "stdout"
        }
      ]
    },
    {
      "cell_type": "code",
      "metadata": {
        "id": "2iufU3YS4q4i"
      },
      "source": [
        "def loss_mse(X, Y, w0, w1):\n",
        "    Y_hat = w0 * X + w1\n",
        "    errors = (Y_hat - Y)**2\n",
        "    return tf.reduce_mean(errors)"
      ],
      "execution_count": null,
      "outputs": []
    }
  ]
}